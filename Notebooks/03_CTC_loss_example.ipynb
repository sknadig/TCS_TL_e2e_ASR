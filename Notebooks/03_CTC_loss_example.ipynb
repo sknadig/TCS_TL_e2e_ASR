{
 "cells": [
  {
   "cell_type": "code",
   "execution_count": 1,
   "metadata": {},
   "outputs": [],
   "source": [
    "import tensorflow as tf\n",
    "import numpy as np\n",
    "tf.enable_eager_execution()"
   ]
  },
  {
   "cell_type": "code",
   "execution_count": 2,
   "metadata": {},
   "outputs": [],
   "source": [
    "def SimpleSparseTensorFrom(x):\n",
    "  \"\"\"Create a very simple SparseTensor with dimensions (batch, time).\n",
    "  Args:\n",
    "    x: a list of lists of type int\n",
    "  Returns:\n",
    "    x_ix and x_val, the indices and values of the SparseTensor<2>.\n",
    "  \"\"\"\n",
    "  x_ix = []\n",
    "  x_val = []\n",
    "  for batch_i, batch in enumerate(x):\n",
    "    for time, val in enumerate(batch):\n",
    "      x_ix.append([batch_i, time])\n",
    "      x_val.append(val)\n",
    "  x_shape = [len(x), np.asarray(x_ix).max(0)[1]+1]\n",
    "  x_ix = tf.constant(x_ix, tf.int64)\n",
    "  x_val = tf.constant(x_val, tf.int32)\n",
    "  x_shape = tf.constant(x_shape, tf.int64)\n",
    "\n",
    "  return tf.SparseTensor(x_ix, x_val, x_shape)"
   ]
  },
  {
   "cell_type": "code",
   "execution_count": 16,
   "metadata": {},
   "outputs": [
    {
     "name": "stdout",
     "output_type": "stream",
     "text": [
      "SparseTensor(indices=tf.Tensor(\n",
      "[[0 0]\n",
      " [0 1]\n",
      " [0 2]\n",
      " [0 3]\n",
      " [0 4]\n",
      " [0 5]\n",
      " [0 6]\n",
      " [1 0]\n",
      " [1 1]\n",
      " [1 2]], shape=(10, 2), dtype=int64), values=tf.Tensor([0 1 2 3 4 5 6 9 6 7], shape=(10,), dtype=int32), dense_shape=tf.Tensor([2 7], shape=(2,), dtype=int64))\n"
     ]
    }
   ],
   "source": [
    "print(SimpleSparseTensorFrom([[0,1,2,3,4,5,6], [9,6,7]]))"
   ]
  },
  {
   "cell_type": "code",
   "execution_count": 3,
   "metadata": {},
   "outputs": [],
   "source": [
    "class CTCLossTest(tf.test.TestCase):\n",
    "\n",
    "  def _testCTCLoss(self, inputs, seq_lens, labels,\n",
    "                   loss_truth, expected_err_re=None):\n",
    "\n",
    "    inputs_t = tf.constant(inputs)\n",
    "\n",
    "    with self.test_session(use_gpu=False) as sess:\n",
    "      loss = tf.nn.ctc_loss(inputs=inputs_t,\n",
    "                            labels=labels,\n",
    "                            sequence_length=seq_lens)\n",
    "\n",
    "      self.assertShapeEqual(loss_truth, loss)\n",
    "      print(\"Expected loss: \",loss_truth)\n",
    "      print(\"Loss computed by ctc function: \", loss)\n",
    "\n",
    "  def testBasic(self):\n",
    "    \"\"\"Test two batch entries.\"\"\"\n",
    "    # max_time_steps == 7\n",
    "    depth = 6\n",
    "\n",
    "    # seq_len_0 == 5\n",
    "    targets_0 = [0, 1, 2, 1, 0]\n",
    "    loss_log_prob_0 = 0\n",
    "    # dimensions are time x depth\n",
    "    input_prob_matrix_0 = np.asarray(\n",
    "        [[1, 0., 0., 0., 0., 0.],\n",
    "         [0., 1, 0., 0., 0., 0.],\n",
    "         [0., 0., 1, 0., 0., 0.],\n",
    "         [0., 1., 0., 0., 0., 0.],\n",
    "         [1, 0., 0., 0., 0., 0.]],\n",
    "        dtype=np.float32)\n",
    "    input_log_prob_matrix_0 = np.log(input_prob_matrix_0)\n",
    "\n",
    "    # seq_len_1 == 5\n",
    "    targets_1 = [0, 1, 2, 1, 3]\n",
    "    loss_log_prob_1 = 0\n",
    "    # dimensions are time x depth\n",
    "\n",
    "    input_prob_matrix_1 = np.asarray(\n",
    "        [[1, 0., 0., 0., 0., 0.],\n",
    "         [0., 1, 0., 0., 0., 0.],\n",
    "         [0., 0., 1, 0., 0., 0.],\n",
    "         [0., 1., 0., 0., 0., 0.],\n",
    "         [0, 0.2, 0.3, 0.5, 0., 0.]],\n",
    "        dtype=np.float32)\n",
    "    input_log_prob_matrix_1 = np.log(input_prob_matrix_1)\n",
    "\n",
    "    # len max_time_steps array of 2 x depth matrices\n",
    "    inputs = [np.vstack([input_log_prob_matrix_0[t, :],\n",
    "                         input_log_prob_matrix_1[t, :]])\n",
    "              for t in range(5)] + 2 * [np.nan*np.ones((2, depth), np.float32)]\n",
    "\n",
    "    # convert inputs into [max_time x batch_size x depth tensor] Tensor\n",
    "    inputs = np.asarray(inputs, dtype=np.float32)\n",
    "\n",
    "    # len batch_size array of label vectors\n",
    "    labels = SimpleSparseTensorFrom([targets_0, targets_1])\n",
    "\n",
    "    # batch_size length vector of sequence_lengths\n",
    "    seq_lens = np.array([5, 5], dtype=np.int32)\n",
    "\n",
    "    # output: batch_size length vector of negative log probabilities\n",
    "    loss_truth = np.array([-loss_log_prob_0, -loss_log_prob_1], np.float32)\n",
    "\n",
    "\n",
    "    self._testCTCLoss(inputs, seq_lens, labels, loss_truth)"
   ]
  },
  {
   "cell_type": "code",
   "execution_count": 4,
   "metadata": {},
   "outputs": [],
   "source": [
    "ctc_loss = CTCLossTest()"
   ]
  },
  {
   "cell_type": "code",
   "execution_count": 5,
   "metadata": {},
   "outputs": [
    {
     "name": "stderr",
     "output_type": "stream",
     "text": [
      "/home/neo/MS/TA/TCS_TL/env/lib/python3.6/site-packages/ipykernel_launcher.py:33: RuntimeWarning: divide by zero encountered in log\n",
      "/home/neo/MS/TA/TCS_TL/env/lib/python3.6/site-packages/ipykernel_launcher.py:47: RuntimeWarning: divide by zero encountered in log\n"
     ]
    },
    {
     "name": "stdout",
     "output_type": "stream",
     "text": [
      "Expected loss:  [0. 0.]\n",
      "Loss computed by ctc function:  tf.Tensor([-0.         0.6931472], shape=(2,), dtype=float32)\n"
     ]
    }
   ],
   "source": [
    "ctc_loss.testBasic()"
   ]
  }
 ],
 "metadata": {
  "kernelspec": {
   "display_name": "Python 3",
   "language": "python",
   "name": "python3"
  },
  "language_info": {
   "codemirror_mode": {
    "name": "ipython",
    "version": 3
   },
   "file_extension": ".py",
   "mimetype": "text/x-python",
   "name": "python",
   "nbconvert_exporter": "python",
   "pygments_lexer": "ipython3",
   "version": "3.6.4"
  }
 },
 "nbformat": 4,
 "nbformat_minor": 2
}
